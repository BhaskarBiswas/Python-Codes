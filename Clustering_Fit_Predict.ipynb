{
 "cells": [
  {
   "cell_type": "code",
   "execution_count": 1,
   "metadata": {
    "collapsed": true
   },
   "outputs": [],
   "source": [
    "# Import required libraries\n",
    "import numpy as np\n",
    "import pandas as pd\n",
    "import matplotlib.pyplot as plt\n",
    "%matplotlib inline\n",
    "\n",
    "from sklearn.cluster import KMeans"
   ]
  },
  {
   "cell_type": "code",
   "execution_count": 2,
   "metadata": {
    "collapsed": false
   },
   "outputs": [
    {
     "name": "stdout",
     "output_type": "stream",
     "text": [
      "   CUST    X    Y\n",
      "0     1  118  119\n",
      "1     2  199  167\n",
      "2     3  160  196\n",
      "3     4  171  186\n",
      "4     5  186  111\n"
     ]
    }
   ],
   "source": [
    "# Import data\n",
    "data = pd.read_csv('Cluster_Problem.csv')\n",
    "print(data.head(5))\n"
   ]
  },
  {
   "cell_type": "code",
   "execution_count": 3,
   "metadata": {
    "collapsed": false
   },
   "outputs": [
    {
     "name": "stdout",
     "output_type": "stream",
     "text": [
      "   CUST    X    Y\n",
      "0     1  118  119\n",
      "1     2  199  167\n",
      "2     3  160  196\n",
      "3     4  171  186\n",
      "4     5  186  111\n",
      "   CUST    X    Y\n",
      "0    41  334  336\n",
      "1    42  380  320\n",
      "2    43  320  312\n",
      "3    44  335  387\n",
      "4    45  382  307\n"
     ]
    }
   ],
   "source": [
    "# Divide into train and test; Resetting index in test\n",
    "train = data[data['CUST']<=40]\n",
    "test1 = data[data['CUST']>40]\n",
    "test = test1.reset_index().drop(['index'], axis = 1)\n",
    "\n",
    "print(train.head(5))\n",
    "print(test.head(5))"
   ]
  },
  {
   "cell_type": "code",
   "execution_count": 4,
   "metadata": {
    "collapsed": false
   },
   "outputs": [
    {
     "data": {
      "text/plain": [
       "<matplotlib.collections.PathCollection at 0x11c2a2128>"
      ]
     },
     "execution_count": 4,
     "metadata": {},
     "output_type": "execute_result"
    },
    {
     "data": {
      "image/png": "[encoded data removed]",
      "text/plain": [
       "<matplotlib.figure.Figure at 0x119daf828>"
      ]
     },
     "metadata": {},
     "output_type": "display_data"
    }
   ],
   "source": [
    "# Scatter plot\n",
    "x = train['X']\n",
    "y = train['Y']\n",
    "plt.scatter(x, y, alpha=0.5)"
   ]
  },
  {
   "cell_type": "code",
   "execution_count": 5,
   "metadata": {
    "collapsed": false
   },
   "outputs": [
    {
     "name": "stdout",
     "output_type": "stream",
     "text": [
      "[[ 151.1  141.1]\n",
      " [ 336.6  348.9]\n",
      " [ 135.1  342.6]\n",
      " [ 355.8  151. ]]\n",
      "[0 0 0 0 0 0 0 0 0 0 3 3 3 3 3 3 3 3 3 3 1 1 1 1 1 1 1 1 1 1 2 2 2 2 2 2 2\n",
      " 2 2 2]\n"
     ]
    }
   ],
   "source": [
    "# Running k-means cluster\n",
    "kmeans = KMeans(n_clusters=4, random_state=0).fit(train[['X','Y']])\n",
    "print(kmeans.cluster_centers_)\n",
    "print(kmeans.labels_)"
   ]
  },
  {
   "cell_type": "markdown",
   "metadata": {},
   "source": [
    "##### See approx values of cluster:: Cluster 0: (150,150), Cluster 1: (350,350), Cluster 2: (150,350), Cluster 3: (350,150)... This will be useful while testing our predictions"
   ]
  },
  {
   "cell_type": "markdown",
   "metadata": {},
   "source": [
    "##### Important part: Scoring the data using a created k-mean solution; We will use the predict function for it"
   ]
  },
  {
   "cell_type": "code",
   "execution_count": 6,
   "metadata": {
    "collapsed": false
   },
   "outputs": [
    {
     "name": "stdout",
     "output_type": "stream",
     "text": [
      "    CUST    X    Y  Cluster_Num\n",
      "0     41  334  336            1\n",
      "1     42  380  320            1\n",
      "2     43  320  312            1\n",
      "3     44  335  387            1\n",
      "4     45  382  307            1\n",
      "5     46  154  165            0\n",
      "6     47  187  197            0\n",
      "7     48  174  135            0\n",
      "8     49  172  128            0\n",
      "9     50  155  103            0\n",
      "10    51  180  366            2\n",
      "11    52  146  326            2\n",
      "12    53  123  371            2\n",
      "13    54  130  389            2\n",
      "14    55  125  308            2\n",
      "15    56  358  195            3\n",
      "16    57  326  116            3\n",
      "17    58  382  165            3\n",
      "18    59  370  108            3\n",
      "19    60  363  180            3\n",
      "20    61  142  199            0\n",
      "21    62  116  126            0\n",
      "22    63  161  194            0\n",
      "23    64  165  167            0\n",
      "24    65  196  116            0\n",
      "25    66  326  143            3\n",
      "26    67  322  195            3\n",
      "27    68  313  137            3\n",
      "28    69  343  113            3\n",
      "29    70  306  153            3\n",
      "30    71  155  385            2\n",
      "31    72  132  349            2\n",
      "32    73  103  301            2\n",
      "33    74  192  355            2\n",
      "34    75  176  312            2\n",
      "35    76  325  336            1\n",
      "36    77  333  363            1\n",
      "37    78  323  321            1\n",
      "38    79  387  379            1\n",
      "39    80  329  382            1\n"
     ]
    }
   ],
   "source": [
    "#Scoring the test data using the cluster already created\n",
    "\n",
    "cluster_val = pd.DataFrame(kmeans.predict(test[['X','Y']]).tolist())\n",
    "cluster_val.columns = ['Cluster_Num']\n",
    "Scored_Test_Data = pd.merge(test, cluster_val, how='inner', left_index=True, right_index=True)\n",
    "print(Scored_Test_Data)"
   ]
  },
  {
   "cell_type": "markdown",
   "metadata": {},
   "source": [
    "##### You can find that the scorings are perfect; Check the X & Y combination, and see the cluster centres for all the clusters"
   ]
  }
 ],
 "metadata": {
  "anaconda-cloud": {},
  "kernelspec": {
   "display_name": "Python [Root]",
   "language": "python",
   "name": "Python [Root]"
  },
  "language_info": {
   "codemirror_mode": {
    "name": "ipython",
    "version": 3
   },
   "file_extension": ".py",
   "mimetype": "text/x-python",
   "name": "python",
   "nbconvert_exporter": "python",
   "pygments_lexer": "ipython3",
   "version": "3.5.2"
  }
 },
 "nbformat": 4,
 "nbformat_minor": 0
}
