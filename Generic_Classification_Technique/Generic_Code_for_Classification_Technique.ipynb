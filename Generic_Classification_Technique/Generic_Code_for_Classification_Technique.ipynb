{
 "cells": [
  {
   "cell_type": "code",
   "execution_count": 1,
   "metadata": {
    "collapsed": true
   },
   "outputs": [],
   "source": [
    "# Import required libraries\n",
    "import numpy as np\n",
    "import pandas as pd\n",
    "import matplotlib.pyplot as plt\n",
    "%matplotlib inline\n",
    "\n",
    "from sklearn.linear_model import LogisticRegression\n",
    "from sklearn.linear_model import LogisticRegression\n",
    "from sklearn.cross_validation import train_test_split\n",
    "from sklearn.cross_validation import cross_val_score\n",
    "from sklearn.cross_validation import KFold   #For K-fold cross validation\n",
    "from sklearn.ensemble import RandomForestClassifier\n",
    "from sklearn.tree import DecisionTreeClassifier, export_graphviz\n",
    "from sklearn import svm\n",
    "from sklearn import metrics\n",
    "from scipy import stats as stat\n",
    "from ggplot import *\n",
    "import statsmodels.formula.api as smf"
   ]
  },
  {
   "cell_type": "code",
   "execution_count": 2,
   "metadata": {
    "collapsed": false
   },
   "outputs": [],
   "source": [
    "# Import train and test data\n",
    "datatbl = pd.read_csv('Classification_Problem.csv')\n",
    "#datatbl"
   ]
  },
  {
   "cell_type": "code",
   "execution_count": 3,
   "metadata": {
    "collapsed": false
   },
   "outputs": [
    {
     "name": "stdout",
     "output_type": "stream",
     "text": [
      "0\n",
      "Response    0\n",
      "Var1        0\n",
      "Var2        0\n",
      "Var3        0\n",
      "dtype: int64\n"
     ]
    }
   ],
   "source": [
    "# Missing Value Summary\n",
    "print(datatbl.isnull().sum(axis=1).sum())\n",
    "print(datatbl.isnull().sum()) # Variable-wise missing value\n",
    "# No Missing value"
   ]
  },
  {
   "cell_type": "code",
   "execution_count": 4,
   "metadata": {
    "collapsed": false
   },
   "outputs": [
    {
     "name": "stdout",
     "output_type": "stream",
     "text": [
      "(array([  1.,   3.,  16.,  28.,  51.,  75.,  82.,  65.,  44.,  35.]), array([ 220.,  278.,  336.,  394.,  452.,  510.,  568.,  626.,  684.,\n",
      "        742.,  800.]), <a list of 10 Patch objects>)\n"
     ]
    },
    {
     "data": {
      "image/png": "[encoded data removed]",
      "text/plain": [
       "<matplotlib.figure.Figure at 0x105b77588>"
      ]
     },
     "metadata": {},
     "output_type": "display_data"
    }
   ],
   "source": [
    "print(plt.hist(datatbl['Var1']))"
   ]
  },
  {
   "cell_type": "code",
   "execution_count": 5,
   "metadata": {
    "collapsed": false
   },
   "outputs": [
    {
     "name": "stdout",
     "output_type": "stream",
     "text": [
      "(array([  3.,   4.,  16.,  34.,  42.,  57.,  76.,  66.,  39.,  63.]), array([ 2.26 ,  2.434,  2.608,  2.782,  2.956,  3.13 ,  3.304,  3.478,\n",
      "        3.652,  3.826,  4.   ]), <a list of 10 Patch objects>)\n"
     ]
    },
    {
     "data": {
      "image/png": "[encoded data removed]",
      "text/plain": [
       "<matplotlib.figure.Figure at 0x11ac9ff60>"
      ]
     },
     "metadata": {},
     "output_type": "display_data"
    }
   ],
   "source": [
    "print(plt.hist(datatbl['Var2']))"
   ]
  },
  {
   "cell_type": "code",
   "execution_count": 6,
   "metadata": {
    "collapsed": false
   },
   "outputs": [
    {
     "name": "stdout",
     "output_type": "stream",
     "text": [
      "(array([  61.,    0.,    0.,  151.,    0.,    0.,  121.,    0.,    0.,   67.]), array([ 1. ,  1.3,  1.6,  1.9,  2.2,  2.5,  2.8,  3.1,  3.4,  3.7,  4. ]), <a list of 10 Patch objects>)\n"
     ]
    },
    {
     "data": {
      "image/png": "[encoded data removed]",
      "text/plain": [
       "<matplotlib.figure.Figure at 0x11b612710>"
      ]
     },
     "metadata": {},
     "output_type": "display_data"
    }
   ],
   "source": [
    "print(plt.hist(datatbl['Var3']))"
   ]
  },
  {
   "cell_type": "code",
   "execution_count": 7,
   "metadata": {
    "collapsed": false
   },
   "outputs": [
    {
     "name": "stdout",
     "output_type": "stream",
     "text": [
      "0    273\n",
      "1    127\n",
      "Name: Response, dtype: int64\n",
      "0    0.6825\n",
      "1    0.3175\n",
      "Name: Response, dtype: float64\n"
     ]
    }
   ],
   "source": [
    "print(datatbl['Response'].value_counts())\n",
    "print(datatbl['Response'].value_counts(normalize=True))"
   ]
  },
  {
   "cell_type": "code",
   "execution_count": 8,
   "metadata": {
    "collapsed": false
   },
   "outputs": [
    {
     "data": {
      "text/html": [
       "<div>\n",
       "<table border=\"1\" class=\"dataframe\">\n",
       "  <thead>\n",
       "    <tr style=\"text-align: right;\">\n",
       "      <th>Var3</th>\n",
       "      <th>1</th>\n",
       "      <th>2</th>\n",
       "      <th>3</th>\n",
       "      <th>4</th>\n",
       "    </tr>\n",
       "    <tr>\n",
       "      <th>Response</th>\n",
       "      <th></th>\n",
       "      <th></th>\n",
       "      <th></th>\n",
       "      <th></th>\n",
       "    </tr>\n",
       "  </thead>\n",
       "  <tbody>\n",
       "    <tr>\n",
       "      <th>0</th>\n",
       "      <td>28</td>\n",
       "      <td>97</td>\n",
       "      <td>93</td>\n",
       "      <td>55</td>\n",
       "    </tr>\n",
       "    <tr>\n",
       "      <th>1</th>\n",
       "      <td>33</td>\n",
       "      <td>54</td>\n",
       "      <td>28</td>\n",
       "      <td>12</td>\n",
       "    </tr>\n",
       "  </tbody>\n",
       "</table>\n",
       "</div>"
      ],
      "text/plain": [
       "Var3       1   2   3   4\n",
       "Response                \n",
       "0         28  97  93  55\n",
       "1         33  54  28  12"
      ]
     },
     "execution_count": 8,
     "metadata": {},
     "output_type": "execute_result"
    }
   ],
   "source": [
    "pd.crosstab(datatbl['Response'],datatbl['Var3'])"
   ]
  },
  {
   "cell_type": "code",
   "execution_count": 9,
   "metadata": {
    "collapsed": false
   },
   "outputs": [
    {
     "data": {
      "text/html": [
       "<div>\n",
       "<table border=\"1\" class=\"dataframe\">\n",
       "  <thead>\n",
       "    <tr style=\"text-align: right;\">\n",
       "      <th>Var3</th>\n",
       "      <th>1</th>\n",
       "      <th>2</th>\n",
       "      <th>3</th>\n",
       "      <th>4</th>\n",
       "    </tr>\n",
       "    <tr>\n",
       "      <th>Response</th>\n",
       "      <th></th>\n",
       "      <th></th>\n",
       "      <th></th>\n",
       "      <th></th>\n",
       "    </tr>\n",
       "  </thead>\n",
       "  <tbody>\n",
       "    <tr>\n",
       "      <th>0</th>\n",
       "      <td>0.459016</td>\n",
       "      <td>0.642384</td>\n",
       "      <td>0.768595</td>\n",
       "      <td>0.820896</td>\n",
       "    </tr>\n",
       "    <tr>\n",
       "      <th>1</th>\n",
       "      <td>0.540984</td>\n",
       "      <td>0.357616</td>\n",
       "      <td>0.231405</td>\n",
       "      <td>0.179104</td>\n",
       "    </tr>\n",
       "  </tbody>\n",
       "</table>\n",
       "</div>"
      ],
      "text/plain": [
       "Var3             1         2         3         4\n",
       "Response                                        \n",
       "0         0.459016  0.642384  0.768595  0.820896\n",
       "1         0.540984  0.357616  0.231405  0.179104"
      ]
     },
     "execution_count": 9,
     "metadata": {},
     "output_type": "execute_result"
    }
   ],
   "source": [
    "pd.crosstab(datatbl['Response'],datatbl['Var3']).apply(lambda r: r/r.sum(),axis=0)"
   ]
  },
  {
   "cell_type": "code",
   "execution_count": 10,
   "metadata": {
    "collapsed": false
   },
   "outputs": [],
   "source": [
    "Var3_Dummy = pd.get_dummies(datatbl['Var3'], prefix = 'Var3')\n",
    "datatbl = pd.concat([datatbl, Var3_Dummy], axis=1)"
   ]
  },
  {
   "cell_type": "code",
   "execution_count": 11,
   "metadata": {
    "collapsed": false
   },
   "outputs": [
    {
     "name": "stdout",
     "output_type": "stream",
     "text": [
      "(400, 8)\n",
      "     Response  Var1  Var2  Var3  Var3_1  Var3_2  Var3_3  Var3_4\n",
      "304         0   220  2.83     3     0.0     0.0     1.0     0.0\n",
      "Empty DataFrame\n",
      "Columns: [Response, Var1, Var2, Var3, Var3_1, Var3_2, Var3_3, Var3_4]\n",
      "Index: []\n",
      "(399, 8)\n"
     ]
    }
   ],
   "source": [
    "# Removing Outliers; \n",
    "# Removing values which lie beyond (+/-) 3 X Standard Deviation\n",
    "# Step1: Getting the outliers\n",
    "print(datatbl.shape) # Initial data size\n",
    "outlier1 = datatbl[~(np.abs(datatbl.Var1-datatbl.Var1.mean())<=(3*datatbl.Var1.std()))] \n",
    "outlier2 = datatbl[~(np.abs(datatbl.Var2-datatbl.Var2.mean())<=(3*datatbl.Var2.std()))]\n",
    "\n",
    "print(outlier1)\n",
    "print(outlier2)\n",
    "\n",
    "# Step2: Removing from main data\n",
    "datatbl_outlier_treated = datatbl[~(datatbl.Var1.isin(outlier1.Var1))]\n",
    "print(datatbl_outlier_treated.shape)"
   ]
  },
  {
   "cell_type": "code",
   "execution_count": 12,
   "metadata": {
    "collapsed": false
   },
   "outputs": [
    {
     "name": "stdout",
     "output_type": "stream",
     "text": [
      "(399, 8)\n"
     ]
    }
   ],
   "source": [
    "# Resetting index\n",
    "final_data_reset = datatbl_outlier_treated.reset_index().drop(['index'], axis = 1)\n",
    "print(final_data_reset.shape)\n",
    "final_data = final_data_reset\n",
    "#final_data"
   ]
  },
  {
   "cell_type": "code",
   "execution_count": 13,
   "metadata": {
    "collapsed": false
   },
   "outputs": [],
   "source": [
    "# Splitting into Train and Test data in 70:30 ratio with a stratified sampling\n",
    "y=final_data.Response\n",
    "x=final_data[['Var1', 'Var2', 'Var3','Var3_1', 'Var3_2', 'Var3_3', 'Var3_4']]\n",
    "x_train,x_test,y_train,y_test=train_test_split(x,y,random_state=5,test_size = 0.3, stratify=y)"
   ]
  },
  {
   "cell_type": "code",
   "execution_count": 14,
   "metadata": {
    "collapsed": false
   },
   "outputs": [],
   "source": [
    "train = pd.concat([y_train, x_train], axis=1).reset_index().drop(['index'], axis = 1)\n",
    "test = pd.concat([y_test, x_test], axis=1).reset_index().drop(['index'], axis = 1)"
   ]
  },
  {
   "cell_type": "code",
   "execution_count": 15,
   "metadata": {
    "collapsed": false
   },
   "outputs": [],
   "source": [
    "#Generic function for making a classification model and accessing performance:\n",
    "def classification_model(model, data, predictors, outcome, testdata):        \n",
    "        \n",
    "    #Fit the model:\n",
    "    model.fit(data[predictors],data[outcome])\n",
    "    \n",
    "    #THE FOLLOWING CODE CALCULATES THE ESTIMATES OF COEFFICIENTS\n",
    "    def MLE_coefficient():\n",
    "        if name_model in ['LinearSVC','LogisticRegression']:           \n",
    "            Coefficient = pd.DataFrame(model.coef_.tolist()).transpose()\n",
    "            Intercept = pd.DataFrame(model.intercept_)\n",
    "            Variable = Intercept.append(Coefficient, ignore_index=True)\n",
    "            df1= pd.DataFrame(['Intercept'])\n",
    "            df2 = pd.DataFrame(predictors)\n",
    "            Predictor = df1.append(df2, ignore_index=True)\n",
    "            MLE = pd.merge(Predictor, Variable, how='inner', left_index=True, right_index=True)\n",
    "            MLE = pd.merge(Predictor, Variable, how='inner', left_index=True, right_index=True)\n",
    "            MLE.columns = ['Independent_Variables','Beta_Values']\n",
    "            print('\\nMaximum Likelihood Estimator Table: \\n==================================== \\n', MLE)\n",
    "        elif name_model in ['RandomForestClassifier','DecisionTreeClassifier']:\n",
    "            Variable = pd.DataFrame(model.feature_importances_.tolist())\n",
    "            Predictor = pd.DataFrame(predictors)\n",
    "            MLE = pd.merge(Predictor, Variable, how='inner', left_index=True, right_index=True)\n",
    "            MLE.columns = ['Independent_Variables','Feature_Importance']\n",
    "            print('\\nFeature Importance Table: \\n==================================== \\n', MLE)\n",
    " \n",
    "    #THE FOLLOWING CODE CALCULATES CONCORDANCE AND DISCORDANCE\n",
    "    def concordance_discordance():\n",
    "        Probability = model.predict_proba(data[predictors])\n",
    "        Probability1 = pd.DataFrame(Probability)\n",
    "        Probability1.columns = ['Prob_0','Prob_1']\n",
    "        TruthTable = pd.merge(data[[outcome]], Probability1[['Prob_1']], how='inner', left_index=True, right_index=True)\n",
    "        zeros = TruthTable[(TruthTable[outcome]==0)].reset_index().drop(['index'], axis = 1)\n",
    "        ones = TruthTable[(TruthTable[outcome]==1)].reset_index().drop(['index'], axis = 1)\n",
    "        from bisect import bisect_left, bisect_right\n",
    "        zeros_list = sorted([zeros.iloc[j,1] for j in zeros.index])\n",
    "        zeros_length = len(zeros_list)\n",
    "        disc = 0\n",
    "        ties = 0\n",
    "        conc = 0\n",
    "        for i in ones.index:\n",
    "            cur_conc = bisect_left(zeros_list, ones.iloc[i,1])\n",
    "            cur_ties = bisect_right(zeros_list, ones.iloc[i,1]) - cur_conc\n",
    "            conc += cur_conc\n",
    "            ties += cur_ties\n",
    "        pairs_tested = zeros_length * len(ones.index)\n",
    "        disc = pairs_tested - conc - ties\n",
    "        print(\"Pairs = \", pairs_tested)\n",
    "        print(\"Conc = \", conc)\n",
    "        print(\"Disc = \", disc)\n",
    "        print(\"Tied = \", ties)\n",
    "        concordance = round(conc/pairs_tested,2)\n",
    "        discordance = round(disc/pairs_tested,2)\n",
    "        ties_perc = round(ties/pairs_tested,2)\n",
    "        Somers_D = round((conc - disc)/pairs_tested,2)\n",
    "        print(\"Concordance = \", concordance, \"%\")\n",
    "        print(\"Discordance = \", discordance, \"%\")\n",
    "        print(\"Tied = \", ties_perc, \"%\")\n",
    "        print(\"Somers D = \", Somers_D)\n",
    "    \n",
    "    #THE FOLLOWING CODE GIVES OUT THE CLASSIFICATION TABLE TO DETERMINE P BASED ON ROC CURVE\n",
    "    def classification_table_func():\n",
    "        Probability = model.predict_proba(data[predictors])\n",
    "        Probability1 = pd.DataFrame(Probability)\n",
    "        Probability1.columns = ['Prob_0','Prob_1']\n",
    "        prob_min = round(Probability1.Prob_1.min() + 0.01,2)\n",
    "        prob_max = round(Probability1.Prob_1.max() - 0.01,2)\n",
    "        prob_val = np.arange(prob_min, prob_max, 0.01).tolist()\n",
    "        ROC = []\n",
    "        CT = []\n",
    "        for p in prob_val:\n",
    "            TruthTable = pd.merge(data[[outcome]], Probability1, how='inner', left_index=True, right_index=True)\n",
    "            TruthTable.ix[TruthTable['Prob_1'] > p, 'Predicted'] = 1\n",
    "            TruthTable.ix[TruthTable['Prob_1'] <= p, 'Predicted'] = 0\n",
    "            Freq = pd.crosstab(TruthTable[outcome],TruthTable['Predicted'])\n",
    "            TN = Freq.iloc[0,0]\n",
    "            FN = Freq.iloc[1,0]\n",
    "            FP = Freq.iloc[0,1]\n",
    "            TP = Freq.iloc[1,1]\n",
    "            Precision = TP/(TP + FP)\n",
    "            Recall = TP/(TP + FN)\n",
    "            F_measure = stat.hmean([ Precision,Recall])\n",
    "            Specificity = TN/(TN + FP)\n",
    "            Specificity_Inv = 1 - Specificity\n",
    "            Sensitivity = Recall\n",
    "            ROC.append({'V1_Prob': p, 'V2_Specificity_Inverse': Specificity_Inv, 'V3_Sensitivity': Sensitivity })\n",
    "            CT.append({'V1_Prob': p, 'V2_Precision': Precision, 'V3_Recall': Recall, 'V4_F_Measure': F_measure })\n",
    "        ROC_data = pd.DataFrame(ROC)\n",
    "        FPR = ROC_data.V2_Specificity_Inverse\n",
    "        TPR = ROC_data.V3_Sensitivity\n",
    "        Classification_Table = pd.DataFrame(CT)\n",
    "        #print('\\nClassification Table: \\n=============================== \\n', Classification_Table)\n",
    "        global threshold_prob\n",
    "        threshold_prob = Classification_Table.iloc[Classification_Table['V4_F_Measure'].argmax(),0]\n",
    "        print('\\nThreshold Probability Value: \\t', threshold_prob)\n",
    "        #THE FOLLOWING CODE CREATES THE FREQUENCY TABLE FOR RECALL AND PRECISION CALCULATION\n",
    "        def frequency_table(prob):\n",
    "            TruthTable = pd.merge(data[[outcome]], Probability1, how='inner', left_index=True, right_index=True)\n",
    "            TruthTable.ix[TruthTable['Prob_1'] > prob, 'Predicted'] = 1\n",
    "            TruthTable.ix[TruthTable['Prob_1'] <= prob, 'Predicted'] = 0\n",
    "            Freq = pd.crosstab(TruthTable[outcome],TruthTable['Predicted'])\n",
    "            TN = Freq.iloc[0,0]\n",
    "            FN = Freq.iloc[1,0]\n",
    "            FP = Freq.iloc[0,1]\n",
    "            TP = Freq.iloc[1,1]\n",
    "            Precision = TP/(TP + FP)\n",
    "            Recall = TP/(TP + FN)\n",
    "            F_measure = stat.hmean([ Precision,Recall])\n",
    "            Correct_Identification = TN + TP\n",
    "            Obs_Count = Freq[0].sum() + Freq[1].sum()\n",
    "            Accuracy = Correct_Identification/Obs_Count\n",
    "            print('\\n==================================================')\n",
    "            print('Accuracy (Using Precision-Recall and F-Measure):')\n",
    "            print('==================================================')\n",
    "            print('In-Sample Accuracy: \\n=======================================')\n",
    "            print('\\nFrequency Table: \\n===============================\\n', Freq)\n",
    "            print('\\nAccuracy: %s'% \"{0:.3%}\".format(Accuracy))\n",
    "            print('Precision: %s'% \"{0:.3%}\".format(Precision))\n",
    "            print('Recall: %s' % \"{0:.3%}\".format(Recall))\n",
    "            print('F-Measure: %s'% \"{0:.3%}\".format(F_measure))\n",
    "            #print('\\nFrequency Table (Percentage): \\n=============================== \\n', pd.crosstab(TruthTable[outcome],TruthTable['Predicted']).apply(lambda r: r/Obs_Count))\n",
    "            #print('\\nFrequency Table (Percentage of Actual Totals): \\n=============================== \\n', pd.crosstab(TruthTable[outcome],TruthTable['Predicted']).apply(lambda r: r/r.sum(), axis=1))\n",
    "            #print('\\nFrequency Table (Percentage of Predicted Totals): \\n=============================== \\n', pd.crosstab(TruthTable[outcome],TruthTable['Predicted']).apply(lambda r: r/r.sum(), axis=0))      \n",
    "        frequency_table(threshold_prob)\n",
    "        \n",
    "        \n",
    "    #THE FOLLOWING CODE GIVES OUT THE CLASSIFICATION TABLE TO DETERMINE P BASED ON ROC CURVE\n",
    "    def cross_validation():\n",
    "        classification_table_func()\n",
    "        Probability = model.predict_proba(testdata[predictors])\n",
    "        Probability1 = pd.DataFrame(Probability)\n",
    "        Probability1.columns = ['Prob_0','Prob_1']\n",
    "\n",
    "        #THE FOLLOWING CODE CREATES THE FREQUENCY TABLE FOR RECALL AND PRECISION CALCULATION\n",
    "        def frequency_table(prob):\n",
    "            TruthTable = pd.merge(testdata[[outcome]], Probability1, how='inner', left_index=True, right_index=True)\n",
    "            TruthTable.ix[TruthTable['Prob_1'] > prob, 'Predicted'] = 1\n",
    "            TruthTable.ix[TruthTable['Prob_1'] <= prob, 'Predicted'] = 0\n",
    "            Freq = pd.crosstab(TruthTable[outcome],TruthTable['Predicted'])\n",
    "            TN = Freq.iloc[0,0]\n",
    "            FN = Freq.iloc[1,0]\n",
    "            FP = Freq.iloc[0,1]\n",
    "            TP = Freq.iloc[1,1]\n",
    "            Precision = TP/(TP + FP)\n",
    "            Recall = TP/(TP + FN)\n",
    "            F_measure = stat.hmean([ Precision,Recall])\n",
    "            Correct_Identification = TN + TP\n",
    "            Obs_Count = Freq[0].sum() + Freq[1].sum()\n",
    "            Accuracy = Correct_Identification/Obs_Count\n",
    "            print('\\nOut-of-Sample Accuracy: \\n=======================================')\n",
    "            print('\\nFrequency Table: \\n===============================\\n', Freq)\n",
    "            print('\\nAccuracy: %s' % \"{0:.3%}\".format(Accuracy))\n",
    "            print('Precision: %s'% \"{0:.3%}\".format(Precision))\n",
    "            print('Recall: %s'% \"{0:.3%}\".format( Recall))\n",
    "            print('F-Measure: %s'% \"{0:.3%}\".format( F_measure))\n",
    "            #print('\\nFrequency Table (Percentage): \\n=============================== \\n', pd.crosstab(TruthTable[outcome],TruthTable['Predicted']).apply(lambda r: r/Obs_Count))    \n",
    "        frequency_table(threshold_prob)\n",
    "    \n",
    "    def validation():\n",
    "        \n",
    "        error = []\n",
    "        accuracy = []\n",
    "        print('\\n==================================================')\n",
    "        print('Accuracy (Using inbuilt \"accuracy_score\" function):')\n",
    "        print('================================================== \\n')\n",
    "        \n",
    "        model.fit(data[predictors],data[outcome])\n",
    "        error = (model.score(data[predictors], data[outcome]))\n",
    "        predictions = model.predict(data[predictors])\n",
    "        accuracy = (metrics.accuracy_score(predictions,data[outcome]))\n",
    "        print (\"In-Sample Accuracy: %s\" % \"{0:.3%}\".format(accuracy))                    \n",
    "        \n",
    "        \n",
    "        error = []\n",
    "        accuracy = []        \n",
    "        error = (model.score(testdata[predictors], testdata[outcome]))\n",
    "        predictions = model.predict(testdata[predictors])\n",
    "        accuracy = (metrics.accuracy_score(predictions,testdata[outcome]))\n",
    "        print (\"Out-of-Sample Accuracy: %s\" % \"{0:.3%}\".format(accuracy))                    \n",
    "    \n",
    "    name_model = str(ascii(repr(model))).replace('\"','').split('(')[0]\n",
    "    print(name_model)\n",
    "    MLlist = ['LogisticRegression', 'DecisionTreeClassifier', 'RandomForestClassifier' ,'SVC', 'LinearSVC']\n",
    "    \n",
    "    if name_model == 'LogisticRegression':\n",
    "        MLE_coefficient()\n",
    "        concordance_discordance()\n",
    "        cross_validation()\n",
    "        validation()\n",
    "        \n",
    "    elif name_model == 'DecisionTreeClassifier':\n",
    "        #MLE_coefficient()\n",
    "        concordance_discordance()\n",
    "        cross_validation()\n",
    "        validation()\n",
    "        \n",
    "    elif name_model == 'RandomForestClassifier':\n",
    "        MLE_coefficient()\n",
    "        concordance_discordance()\n",
    "        cross_validation()\n",
    "        validation()\n",
    "        \n",
    "    elif name_model == 'SVC':\n",
    "        #MLE_coefficient()\n",
    "        concordance_discordance()\n",
    "        cross_validation()\n",
    "        validation()\n",
    "\n",
    "    elif name_model == 'LinearSVC':\n",
    "        MLE_coefficient()\n",
    "        #concordance_discordance()\n",
    "        #cross_validation()\n",
    "        validation()\n",
    "\n",
    "   \n",
    "    #print(pd.DataFrame(model.intercept_))\n",
    "    #MLE_coefficient()\n",
    "    #Fit the model again so that it can be refered outside the function:\n",
    "    #model.fit(data[predictors],data[outcome]) "
   ]
  },
  {
   "cell_type": "code",
   "execution_count": 16,
   "metadata": {
    "collapsed": false
   },
   "outputs": [
    {
     "name": "stdout",
     "output_type": "stream",
     "text": [
      "LogisticRegression\n",
      "\n",
      "Maximum Likelihood Estimator Table: \n",
      "==================================== \n",
      "   Independent_Variables  Beta_Values\n",
      "0             Intercept    -0.715295\n",
      "1                  Var1     0.000267\n",
      "2                  Var2     0.192598\n",
      "3                Var3_2    -0.579754\n",
      "4                Var3_3    -1.251851\n",
      "5                Var3_4    -1.628559\n",
      "Pairs =  16910\n",
      "Conc =  11679\n",
      "Disc =  5228\n",
      "Tied =  3\n",
      "Concordance =  0.69 %\n",
      "Discordance =  0.31 %\n",
      "Tied =  0.0 %\n",
      "Somers D =  0.38\n",
      "\n",
      "Threshold Probability Value: \t 0.37\n",
      "\n",
      "==================================================\n",
      "Accuracy (Using Precision-Recall and F-Measure):\n",
      "==================================================\n",
      "In-Sample Accuracy: \n",
      "=======================================\n",
      "\n",
      "Frequency Table: \n",
      "===============================\n",
      " Predicted  0.0  1.0\n",
      "Response           \n",
      "0          130   60\n",
      "1           32   57\n",
      "\n",
      "Accuracy: 67.025%\n",
      "Precision: 48.718%\n",
      "Recall: 64.045%\n",
      "F-Measure: 55.340%\n",
      "\n",
      "Out-of-Sample Accuracy: \n",
      "=======================================\n",
      "\n",
      "Frequency Table: \n",
      "===============================\n",
      " Predicted  0.0  1.0\n",
      "Response           \n",
      "0           54   28\n",
      "1           16   22\n",
      "\n",
      "Accuracy: 63.333%\n",
      "Precision: 44.000%\n",
      "Recall: 57.895%\n",
      "F-Measure: 50.000%\n",
      "\n",
      "==================================================\n",
      "Accuracy (Using inbuilt \"accuracy_score\" function):\n",
      "================================================== \n",
      "\n",
      "In-Sample Accuracy: 70.968%\n",
      "Out-of-Sample Accuracy: 68.333%\n"
     ]
    }
   ],
   "source": [
    "#We can try different combination of variables:\n",
    "outcome_var = 'Response'\n",
    "predictor_var = ['Var1','Var2','Var3_2','Var3_3','Var3_4']\n",
    "#predictor_var = ['Var2','Var3_2','Var3_3','Var3_4']\n",
    "model = LogisticRegression()\n",
    "classification_model(model,train,predictor_var,outcome_var,test)"
   ]
  },
  {
   "cell_type": "code",
   "execution_count": 17,
   "metadata": {
    "collapsed": false
   },
   "outputs": [
    {
     "name": "stdout",
     "output_type": "stream",
     "text": [
      "DecisionTreeClassifier\n",
      "Pairs =  16910\n",
      "Conc =  16901\n",
      "Disc =  0\n",
      "Tied =  9\n",
      "Concordance =  1.0 %\n",
      "Discordance =  0.0 %\n",
      "Tied =  0.0 %\n",
      "Somers D =  1.0\n",
      "\n",
      "Threshold Probability Value: \t 0.01\n",
      "\n",
      "==================================================\n",
      "Accuracy (Using Precision-Recall and F-Measure):\n",
      "==================================================\n",
      "In-Sample Accuracy: \n",
      "=======================================\n",
      "\n",
      "Frequency Table: \n",
      "===============================\n",
      " Predicted  0.0  1.0\n",
      "Response           \n",
      "0          187    3\n",
      "1            0   89\n",
      "\n",
      "Accuracy: 98.925%\n",
      "Precision: 96.739%\n",
      "Recall: 100.000%\n",
      "F-Measure: 98.343%\n",
      "\n",
      "Out-of-Sample Accuracy: \n",
      "=======================================\n",
      "\n",
      "Frequency Table: \n",
      "===============================\n",
      " Predicted  0.0  1.0\n",
      "Response           \n",
      "0           63   19\n",
      "1           22   16\n",
      "\n",
      "Accuracy: 65.833%\n",
      "Precision: 45.714%\n",
      "Recall: 42.105%\n",
      "F-Measure: 43.836%\n",
      "\n",
      "==================================================\n",
      "Accuracy (Using inbuilt \"accuracy_score\" function):\n",
      "================================================== \n",
      "\n",
      "In-Sample Accuracy: 98.925%\n",
      "Out-of-Sample Accuracy: 65.833%\n"
     ]
    }
   ],
   "source": [
    "#We can try different combination of variables:\n",
    "outcome_var = 'Response'\n",
    "predictor_var = ['Var1','Var2','Var3_2','Var3_3','Var3_4']\n",
    "model = DecisionTreeClassifier()\n",
    "classification_model(model,train,predictor_var,outcome_var,test)"
   ]
  },
  {
   "cell_type": "code",
   "execution_count": 18,
   "metadata": {
    "collapsed": false
   },
   "outputs": [
    {
     "name": "stdout",
     "output_type": "stream",
     "text": [
      "RandomForestClassifier\n",
      "\n",
      "Feature Importance Table: \n",
      "==================================== \n",
      "   Independent_Variables  Feature_Importance\n",
      "0                  Var1            0.398570\n",
      "1                  Var2            0.492611\n",
      "2                Var3_2            0.037637\n",
      "3                Var3_3            0.029844\n",
      "4                Var3_4            0.041338\n",
      "Pairs =  16910\n",
      "Conc =  16714\n",
      "Disc =  102\n",
      "Tied =  94\n",
      "Concordance =  0.99 %\n",
      "Discordance =  0.01 %\n",
      "Tied =  0.01 %\n",
      "Somers D =  0.98\n",
      "\n",
      "Threshold Probability Value: \t 0.5\n",
      "\n",
      "==================================================\n",
      "Accuracy (Using Precision-Recall and F-Measure):\n",
      "==================================================\n",
      "In-Sample Accuracy: \n",
      "=======================================\n",
      "\n",
      "Frequency Table: \n",
      "===============================\n",
      " Predicted  0.0  1.0\n",
      "Response           \n",
      "0          187    3\n",
      "1           10   79\n",
      "\n",
      "Accuracy: 95.341%\n",
      "Precision: 96.341%\n",
      "Recall: 88.764%\n",
      "F-Measure: 92.398%\n",
      "\n",
      "Out-of-Sample Accuracy: \n",
      "=======================================\n",
      "\n",
      "Frequency Table: \n",
      "===============================\n",
      " Predicted  0.0  1.0\n",
      "Response           \n",
      "0           64   18\n",
      "1           26   12\n",
      "\n",
      "Accuracy: 63.333%\n",
      "Precision: 40.000%\n",
      "Recall: 31.579%\n",
      "F-Measure: 35.294%\n",
      "\n",
      "==================================================\n",
      "Accuracy (Using inbuilt \"accuracy_score\" function):\n",
      "================================================== \n",
      "\n",
      "In-Sample Accuracy: 97.491%\n",
      "Out-of-Sample Accuracy: 61.667%\n"
     ]
    }
   ],
   "source": [
    "#We can try different combination of variables:\n",
    "outcome_var = 'Response'\n",
    "predictor_var = ['Var1','Var2','Var3_2','Var3_3','Var3_4']\n",
    "#predictor_var = ['Var2','Var3_2','Var3_3','Var3_4']\n",
    "model = RandomForestClassifier(n_estimators=10)\n",
    "classification_model(model,train,predictor_var,outcome_var,test)"
   ]
  },
  {
   "cell_type": "code",
   "execution_count": 19,
   "metadata": {
    "collapsed": false
   },
   "outputs": [
    {
     "name": "stdout",
     "output_type": "stream",
     "text": [
      "SVC\n",
      "Pairs =  16910\n",
      "Conc =  14209\n",
      "Disc =  2698\n",
      "Tied =  3\n",
      "Concordance =  0.84 %\n",
      "Discordance =  0.16 %\n",
      "Tied =  0.0 %\n",
      "Somers D =  0.68\n",
      "\n",
      "Threshold Probability Value: \t 0.31\n",
      "\n",
      "==================================================\n",
      "Accuracy (Using Precision-Recall and F-Measure):\n",
      "==================================================\n",
      "In-Sample Accuracy: \n",
      "=======================================\n",
      "\n",
      "Frequency Table: \n",
      "===============================\n",
      " Predicted  0.0  1.0\n",
      "Response           \n",
      "0          147   43\n",
      "1           18   71\n",
      "\n",
      "Accuracy: 78.136%\n",
      "Precision: 62.281%\n",
      "Recall: 79.775%\n",
      "F-Measure: 69.951%\n",
      "\n",
      "Out-of-Sample Accuracy: \n",
      "=======================================\n",
      "\n",
      "Frequency Table: \n",
      "===============================\n",
      " Predicted  0.0  1.0\n",
      "Response           \n",
      "0           38   44\n",
      "1           20   18\n",
      "\n",
      "Accuracy: 46.667%\n",
      "Precision: 29.032%\n",
      "Recall: 47.368%\n",
      "F-Measure: 36.000%\n",
      "\n",
      "==================================================\n",
      "Accuracy (Using inbuilt \"accuracy_score\" function):\n",
      "================================================== \n",
      "\n",
      "In-Sample Accuracy: 68.100%\n",
      "Out-of-Sample Accuracy: 68.333%\n"
     ]
    }
   ],
   "source": [
    "#We can try different combination of variables:\n",
    "outcome_var = 'Response'\n",
    "predictor_var = ['Var1','Var2','Var3_2','Var3_3','Var3_4']\n",
    "#predictor_var = ['Var2','Var3_2','Var3_3','Var3_4']\n",
    "#model = svm.SVC(probability=True, C=10.0, gamma='auto', kernel='rbf')\n",
    "#model = svm.SVC(probability=True, C=1.0, gamma='auto', kernel='rbf')\n",
    "model = svm.SVC(probability=True, C=0.1, gamma='auto', kernel='rbf')\n",
    "#model = svm.LinearSVC(C=10.0)\n",
    "classification_model(model,train,predictor_var,outcome_var,test)"
   ]
  },
  {
   "cell_type": "code",
   "execution_count": 22,
   "metadata": {
    "collapsed": false
   },
   "outputs": [
    {
     "data": {
      "text/html": [
       "<div>\n",
       "<table border=\"1\" class=\"dataframe\">\n",
       "  <thead>\n",
       "    <tr style=\"text-align: right;\">\n",
       "      <th></th>\n",
       "      <th>Response</th>\n",
       "      <th>Var1</th>\n",
       "      <th>Var2</th>\n",
       "      <th>Var3</th>\n",
       "      <th>Var3_1</th>\n",
       "      <th>Var3_2</th>\n",
       "      <th>Var3_3</th>\n",
       "      <th>Var3_4</th>\n",
       "    </tr>\n",
       "  </thead>\n",
       "  <tbody>\n",
       "    <tr>\n",
       "      <th>0</th>\n",
       "      <td>1</td>\n",
       "      <td>800</td>\n",
       "      <td>3.74</td>\n",
       "      <td>1</td>\n",
       "      <td>1.0</td>\n",
       "      <td>0.0</td>\n",
       "      <td>0.0</td>\n",
       "      <td>0.0</td>\n",
       "    </tr>\n",
       "    <tr>\n",
       "      <th>1</th>\n",
       "      <td>0</td>\n",
       "      <td>500</td>\n",
       "      <td>3.88</td>\n",
       "      <td>4</td>\n",
       "      <td>0.0</td>\n",
       "      <td>0.0</td>\n",
       "      <td>0.0</td>\n",
       "      <td>1.0</td>\n",
       "    </tr>\n",
       "  </tbody>\n",
       "</table>\n",
       "</div>"
      ],
      "text/plain": [
       "   Response  Var1  Var2  Var3  Var3_1  Var3_2  Var3_3  Var3_4\n",
       "0         1   800  3.74     1     1.0     0.0     0.0     0.0\n",
       "1         0   500  3.88     4     0.0     0.0     0.0     1.0"
      ]
     },
     "execution_count": 22,
     "metadata": {},
     "output_type": "execute_result"
    }
   ],
   "source": [
    "test.head(2)"
   ]
  },
  {
   "cell_type": "code",
   "execution_count": 23,
   "metadata": {
    "collapsed": false
   },
   "outputs": [
    {
     "data": {
      "text/html": [
       "<div>\n",
       "<table border=\"1\" class=\"dataframe\">\n",
       "  <thead>\n",
       "    <tr style=\"text-align: right;\">\n",
       "      <th></th>\n",
       "      <th>Var1</th>\n",
       "      <th>Var2</th>\n",
       "      <th>Var3</th>\n",
       "      <th>Var3_1</th>\n",
       "      <th>Var3_2</th>\n",
       "      <th>Var3_3</th>\n",
       "      <th>Var3_4</th>\n",
       "    </tr>\n",
       "  </thead>\n",
       "  <tbody>\n",
       "    <tr>\n",
       "      <th>0</th>\n",
       "      <td>700</td>\n",
       "      <td>4</td>\n",
       "      <td>1</td>\n",
       "      <td>1</td>\n",
       "      <td>0</td>\n",
       "      <td>0</td>\n",
       "      <td>0</td>\n",
       "    </tr>\n",
       "  </tbody>\n",
       "</table>\n",
       "</div>"
      ],
      "text/plain": [
       "   Var1  Var2  Var3  Var3_1  Var3_2  Var3_3  Var3_4\n",
       "0   700     4     1       1       0       0       0"
      ]
     },
     "execution_count": 23,
     "metadata": {},
     "output_type": "execute_result"
    }
   ],
   "source": [
    "new_customer = [{'Var1': 700, 'Var2': 4, 'Var3': 1, 'Var3_1': 1, 'Var3_2': 0, 'Var3_3': 0, 'Var3_4': 0}]\n",
    "problem_c = pd.DataFrame(new_customer)\n",
    "problem_c"
   ]
  },
  {
   "cell_type": "code",
   "execution_count": 44,
   "metadata": {
    "collapsed": false
   },
   "outputs": [],
   "source": [
    "#Generic function for making a classification model and accessing performance:\n",
    "def run_one_instance(model, data, predictors, outcome, testdata):        \n",
    "        \n",
    "    #Fit the model:\n",
    "    model.fit(data[predictors],data[outcome])\n",
    "    probs = model.predict_proba(testdata[predictors])\n",
    "    predictions = model.predict(testdata[predictors])\n",
    "    return probs, predictions\n"
   ]
  },
  {
   "cell_type": "code",
   "execution_count": 47,
   "metadata": {
    "collapsed": false
   },
   "outputs": [
    {
     "data": {
      "text/plain": [
       "(array([[ 0.43987198,  0.56012802]]), array([1]))"
      ]
     },
     "execution_count": 47,
     "metadata": {},
     "output_type": "execute_result"
    }
   ],
   "source": [
    "#We can try different combination of variables:\n",
    "outcome_var = 'Response'\n",
    "predictor_var = ['Var1','Var2','Var3_2','Var3_3','Var3_4']\n",
    "model = LogisticRegression()\n",
    "#model = RandomForestClassifier(n_estimators=10)\n",
    "#model = svm.SVC(probability=True, C=0.1, gamma='auto', kernel='rbf')\n",
    "run_one_instance(model,train,predictor_var,outcome_var,problem_c)"
   ]
  },
  {
   "cell_type": "code",
   "execution_count": null,
   "metadata": {
    "collapsed": true
   },
   "outputs": [],
   "source": []
  }
 ],
 "metadata": {
  "anaconda-cloud": {},
  "kernelspec": {
   "display_name": "Python [Root]",
   "language": "python",
   "name": "Python [Root]"
  },
  "language_info": {
   "codemirror_mode": {
    "name": "ipython",
    "version": 3
   },
   "file_extension": ".py",
   "mimetype": "text/x-python",
   "name": "python",
   "nbconvert_exporter": "python",
   "pygments_lexer": "ipython3",
   "version": "3.5.2"
  }
 },
 "nbformat": 4,
 "nbformat_minor": 0
}
